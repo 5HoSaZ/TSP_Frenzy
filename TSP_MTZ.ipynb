{
 "cells": [
  {
   "cell_type": "code",
   "execution_count": 13,
   "metadata": {},
   "outputs": [],
   "source": [
    "import logging as log\n",
    "import numpy as np\n",
    "from ortools.linear_solver import pywraplp"
   ]
  },
  {
   "cell_type": "markdown",
   "metadata": {},
   "source": [
    "### Set up logging\n"
   ]
  },
  {
   "cell_type": "code",
   "execution_count": 14,
   "metadata": {},
   "outputs": [
    {
     "name": "stderr",
     "output_type": "stream",
     "text": [
      "INFO - Logger initialized...\n"
     ]
    }
   ],
   "source": [
    "for handler in log.root.handlers[:]:\n",
    "    log.root.removeHandler(handler)\n",
    "log.basicConfig(format=\"%(levelname)s - %(message)s\")\n",
    "\n",
    "logger = log.getLogger()\n",
    "logger.setLevel(log.DEBUG)\n",
    "log.info(\"Logger initialized...\")"
   ]
  },
  {
   "cell_type": "markdown",
   "metadata": {},
   "source": [
    "### Get input\n"
   ]
  },
  {
   "cell_type": "code",
   "execution_count": 15,
   "metadata": {},
   "outputs": [],
   "source": [
    "def getinput(file):\n",
    "    with open(file) as data:\n",
    "        NumNode = int(next(data))\n",
    "        PathCost = np.loadtxt(data)\n",
    "    return NumNode, PathCost"
   ]
  },
  {
   "cell_type": "code",
   "execution_count": 16,
   "metadata": {},
   "outputs": [],
   "source": [
    "NumNode, PathCost = getinput(\"largeTSP.txt\")"
   ]
  },
  {
   "cell_type": "markdown",
   "metadata": {},
   "source": [
    "### Set up solver\n"
   ]
  },
  {
   "cell_type": "code",
   "execution_count": 17,
   "metadata": {},
   "outputs": [],
   "source": [
    "solver_id = \"SCIP\"\n",
    "solver: pywraplp.Solver = pywraplp.Solver.CreateSolver(solver_id)\n",
    "inf = solver.infinity()"
   ]
  },
  {
   "cell_type": "markdown",
   "metadata": {},
   "source": [
    "### Generating decision variables\n"
   ]
  },
  {
   "cell_type": "code",
   "execution_count": 18,
   "metadata": {},
   "outputs": [
    {
     "name": "stderr",
     "output_type": "stream",
     "text": [
      "INFO - Creating 900 boolean x_ij variables... \n"
     ]
    }
   ],
   "source": [
    "log.info(\"Creating \" + str(NumNode * NumNode) + \" boolean x_ij variables... \")\n",
    "X = {}\n",
    "for i in range(NumNode):\n",
    "    for j in range(NumNode):\n",
    "        X[(i, j)] = solver.BoolVar(f\"x{(i, j)}\")"
   ]
  },
  {
   "cell_type": "markdown",
   "metadata": {},
   "source": [
    "### Creating constraints\n"
   ]
  },
  {
   "cell_type": "code",
   "execution_count": 19,
   "metadata": {},
   "outputs": [
    {
     "name": "stderr",
     "output_type": "stream",
     "text": [
      "INFO - Creating 30 Constraint 1... \n"
     ]
    }
   ],
   "source": [
    "# Constraint 1: leave every point exactly once\n",
    "\n",
    "log.info(\"Creating \" + str(NumNode) + \" Constraint 1... \")\n",
    "for i in range(NumNode):\n",
    "    solver.Add(sum(X[(i, j)] for j in range(NumNode) if i != j) == 1)"
   ]
  },
  {
   "cell_type": "code",
   "execution_count": 20,
   "metadata": {},
   "outputs": [
    {
     "name": "stderr",
     "output_type": "stream",
     "text": [
      "INFO - Creating 30 Constraint 2... \n"
     ]
    }
   ],
   "source": [
    "# Constraint 2: reach every point from exactly one other point\n",
    "\n",
    "log.info(\"Creating \" + str(NumNode) + \" Constraint 2... \")\n",
    "for j in range(NumNode):\n",
    "    solver.Add(sum(X[(i, j)] for i in range(NumNode) if i != j) == 1)"
   ]
  },
  {
   "cell_type": "code",
   "execution_count": 21,
   "metadata": {},
   "outputs": [
    {
     "name": "stderr",
     "output_type": "stream",
     "text": [
      "INFO - Creating 841 Constraint 3... \n"
     ]
    }
   ],
   "source": [
    "U = {}\n",
    "U[0] = solver.IntVar(1, 1, \"u0\")\n",
    "for i in range(1, NumNode):\n",
    "    U[i] = solver.IntVar(2, NumNode, f\"u{i}\")\n",
    "\n",
    "# constraint 3: subtour elimination constraints (Miller-Tucker-Zemlin)\n",
    "\n",
    "log.info(\"Creating \" + str((NumNode - 1) ** 2) + \" Constraint 3... \")\n",
    "for i in range(1, NumNode):\n",
    "    for j in range(1, NumNode):\n",
    "        solver.Add(U[i] - U[j] + 1 <= (NumNode - 1) * (1 - X[(i, j)]))"
   ]
  },
  {
   "cell_type": "markdown",
   "metadata": {},
   "source": [
    "### Define objective function and solve\n"
   ]
  },
  {
   "cell_type": "code",
   "execution_count": 22,
   "metadata": {},
   "outputs": [
    {
     "name": "stderr",
     "output_type": "stream",
     "text": [
      "INFO - Solving MIP model... \n"
     ]
    }
   ],
   "source": [
    "# Create objective function\n",
    "solver.Minimize(\n",
    "    sum(X[(i, j)] * PathCost[i][j] \n",
    "    for i in range(NumNode) \n",
    "    for j in range(NumNode))\n",
    ")\n",
    "log.info(\"Solving MIP model... \")"
   ]
  },
  {
   "cell_type": "markdown",
   "metadata": {},
   "source": [
    "### Print solution\n"
   ]
  },
  {
   "cell_type": "code",
   "execution_count": 23,
   "metadata": {},
   "outputs": [],
   "source": [
    "def print_solution(X):\n",
    "    start = 0\n",
    "    print(start + 1, end=\" \")\n",
    "    for step in range(NumNode - 1):\n",
    "        for end in range(NumNode):\n",
    "            if X[(start, end)].solution_value() == 1:\n",
    "                print(\"->\", end + 1, end = \" \")\n",
    "                start = end\n",
    "                break\n",
    "    print(\"->\", 1)"
   ]
  },
  {
   "cell_type": "code",
   "execution_count": 24,
   "metadata": {},
   "outputs": [
    {
     "name": "stdout",
     "output_type": "stream",
     "text": [
      "Optimal objective value == 43399.0\n",
      "1 -> 16 -> 2 -> 11 -> 17 -> 12 -> 13 -> 10 -> 28 -> 4 -> 26 -> 20 -> 8 -> 6 -> 19 -> 5 -> 9 -> 22 -> 7 -> 24 -> 21 -> 18 -> 27 -> 29 -> 14 -> 30 -> 23 -> 25 -> 15 -> 3 -> 1\n"
     ]
    }
   ],
   "source": [
    "status = solver.Solve()\n",
    "\n",
    "if status == pywraplp.Solver.OPTIMAL:\n",
    "    print(\"Optimal objective value ==\", solver.Objective().Value())\n",
    "    print_solution(X)\n",
    "else:\n",
    "    print(\"UNBOUNDED\")"
   ]
  }
 ],
 "metadata": {
  "kernelspec": {
   "display_name": "lulopy",
   "language": "python",
   "name": "python3"
  },
  "language_info": {
   "codemirror_mode": {
    "name": "ipython",
    "version": 3
   },
   "file_extension": ".py",
   "mimetype": "text/x-python",
   "name": "python",
   "nbconvert_exporter": "python",
   "pygments_lexer": "ipython3",
   "version": "3.11.4"
  }
 },
 "nbformat": 4,
 "nbformat_minor": 2
}
