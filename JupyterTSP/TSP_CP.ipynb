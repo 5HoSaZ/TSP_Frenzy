{
 "cells": [
  {
   "cell_type": "code",
   "execution_count": 2,
   "metadata": {},
   "outputs": [
    {
     "ename": "ModuleNotFoundError",
     "evalue": "No module named 'GetTSPInput'",
     "output_type": "error",
     "traceback": [
      "\u001b[1;31m---------------------------------------------------------------------------\u001b[0m",
      "\u001b[1;31mModuleNotFoundError\u001b[0m                       Traceback (most recent call last)",
      "\u001b[1;32me:\\Code Projects\\TSP_Frenzy\\JupyterTSP\\TSP_CP.ipynb Cell 1\u001b[0m line \u001b[0;36m4\n\u001b[0;32m      <a href='vscode-notebook-cell:/e%3A/Code%20Projects/TSP_Frenzy/JupyterTSP/TSP_CP.ipynb#W0sZmlsZQ%3D%3D?line=1'>2</a>\u001b[0m \u001b[39mimport\u001b[39;00m \u001b[39mnumpy\u001b[39;00m \u001b[39mas\u001b[39;00m \u001b[39mnp\u001b[39;00m\n\u001b[0;32m      <a href='vscode-notebook-cell:/e%3A/Code%20Projects/TSP_Frenzy/JupyterTSP/TSP_CP.ipynb#W0sZmlsZQ%3D%3D?line=2'>3</a>\u001b[0m \u001b[39mfrom\u001b[39;00m \u001b[39mortools\u001b[39;00m\u001b[39m.\u001b[39;00m\u001b[39msat\u001b[39;00m\u001b[39m.\u001b[39;00m\u001b[39mpython\u001b[39;00m \u001b[39mimport\u001b[39;00m cp_model\n\u001b[1;32m----> <a href='vscode-notebook-cell:/e%3A/Code%20Projects/TSP_Frenzy/JupyterTSP/TSP_CP.ipynb#W0sZmlsZQ%3D%3D?line=3'>4</a>\u001b[0m \u001b[39mfrom\u001b[39;00m \u001b[39mGetTSPInput\u001b[39;00m \u001b[39mimport\u001b[39;00m getInput\n\u001b[0;32m      <a href='vscode-notebook-cell:/e%3A/Code%20Projects/TSP_Frenzy/JupyterTSP/TSP_CP.ipynb#W0sZmlsZQ%3D%3D?line=5'>6</a>\u001b[0m \u001b[39m# Setting up logger\u001b[39;00m\n\u001b[0;32m      <a href='vscode-notebook-cell:/e%3A/Code%20Projects/TSP_Frenzy/JupyterTSP/TSP_CP.ipynb#W0sZmlsZQ%3D%3D?line=6'>7</a>\u001b[0m \u001b[39mfor\u001b[39;00m handler \u001b[39min\u001b[39;00m log\u001b[39m.\u001b[39mroot\u001b[39m.\u001b[39mhandlers[:]:\n",
      "\u001b[1;31mModuleNotFoundError\u001b[0m: No module named 'GetTSPInput'"
     ]
    }
   ],
   "source": [
    "import logging as log\n",
    "import numpy as np\n",
    "from ortools.sat.python import cp_model\n",
    "from GetTSPInput import getInput\n",
    "\n",
    "# Setting up logger\n",
    "for handler in log.root.handlers[:]:\n",
    "    log.root.removeHandler(handler)\n",
    "log.basicConfig(format=\"%(levelname)s - %(message)s\")\n",
    "\n",
    "logger = log.getLogger()\n",
    "logger.setLevel(log.DEBUG)\n",
    "log.info(\"Logger initialized...\")"
   ]
  },
  {
   "cell_type": "code",
   "execution_count": null,
   "metadata": {},
   "outputs": [
    {
     "ename": "NameError",
     "evalue": "name 'getInput' is not defined",
     "output_type": "error",
     "traceback": [
      "\u001b[1;31m---------------------------------------------------------------------------\u001b[0m",
      "\u001b[1;31mNameError\u001b[0m                                 Traceback (most recent call last)",
      "\u001b[1;32me:\\Code Projects\\TSP_Frenzy\\JupyterTSP\\TSP_CP.ipynb Cell 2\u001b[0m line \u001b[0;36m1\n\u001b[1;32m----> <a href='vscode-notebook-cell:/e%3A/Code%20Projects/TSP_Frenzy/JupyterTSP/TSP_CP.ipynb#W1sZmlsZQ%3D%3D?line=0'>1</a>\u001b[0m numNode, pathCost \u001b[39m=\u001b[39m getInput(\u001b[39m\"\u001b[39m\u001b[39minputTSP.txt\u001b[39m\u001b[39m\"\u001b[39m)\n",
      "\u001b[1;31mNameError\u001b[0m: name 'getInput' is not defined"
     ]
    }
   ],
   "source": [
    "numNode, pathCost = getInput(\"inputTSP.txt\")"
   ]
  }
 ],
 "metadata": {
  "kernelspec": {
   "display_name": "lulopy",
   "language": "python",
   "name": "python3"
  },
  "language_info": {
   "codemirror_mode": {
    "name": "ipython",
    "version": 3
   },
   "file_extension": ".py",
   "mimetype": "text/x-python",
   "name": "python",
   "nbconvert_exporter": "python",
   "pygments_lexer": "ipython3",
   "version": "3.11.4"
  }
 },
 "nbformat": 4,
 "nbformat_minor": 2
}
