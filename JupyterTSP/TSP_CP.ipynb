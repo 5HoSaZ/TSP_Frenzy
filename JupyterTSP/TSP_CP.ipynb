{
 "cells": [
  {
   "cell_type": "code",
   "execution_count": null,
   "metadata": {},
   "outputs": [],
   "source": [
    "import logging as log\n",
    "import numpy as np\n",
    "from ortools.sat.python import cp_model\n",
    "\n",
    "# Setting up logger\n",
    "for handler in log.root.handlers[:]:\n",
    "    log.root.removeHandler(handler)\n",
    "log.basicConfig(format=\"%(levelname)s - %(message)s\")\n",
    "\n",
    "logger = log.getLogger()\n",
    "logger.setLevel(log.DEBUG)\n",
    "log.info(\"Logger initialized...\")"
   ]
  },
  {
   "cell_type": "code",
   "execution_count": null,
   "metadata": {},
   "outputs": [],
   "source": [
    "cpSolver = cp_model"
   ]
  }
 ],
 "metadata": {
  "kernelspec": {
   "display_name": "lulopy",
   "language": "python",
   "name": "python3"
  },
  "language_info": {
   "name": "python",
   "version": "3.11.4"
  }
 },
 "nbformat": 4,
 "nbformat_minor": 2
}
