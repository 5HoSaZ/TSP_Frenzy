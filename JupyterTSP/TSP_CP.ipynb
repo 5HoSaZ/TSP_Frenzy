{
 "cells": [
  {
   "cell_type": "code",
   "execution_count": 19,
   "metadata": {},
   "outputs": [
    {
     "name": "stderr",
     "output_type": "stream",
     "text": [
      "INFO - Logger initialized...\n"
     ]
    }
   ],
   "source": [
    "import logging as log\n",
    "import numpy as np\n",
    "from ortools.sat.python import cp_model\n",
    "\n",
    "# Setting up logger\n",
    "for handler in log.root.handlers[:]:\n",
    "    log.root.removeHandler(handler)\n",
    "log.basicConfig(format=\"%(levelname)s - %(message)s\")\n",
    "\n",
    "logger = log.getLogger()\n",
    "logger.setLevel(log.DEBUG)\n",
    "log.info(\"Logger initialized...\")"
   ]
  },
  {
   "cell_type": "code",
   "execution_count": 20,
   "metadata": {},
   "outputs": [],
   "source": [
    "def getInput(file):\n",
    "    import numpy as np\n",
    "\n",
    "    with open(file) as data:\n",
    "        numNode = int(next(data))\n",
    "        pathCost = np.loadtxt(data)\n",
    "    return numNode, pathCost"
   ]
  },
  {
   "cell_type": "code",
   "execution_count": 23,
   "metadata": {},
   "outputs": [],
   "source": [
    "model = cp_model.CpModel()\n",
    "numNode, pathCost = getInput(\"inputTSP.txt\")"
   ]
  },
  {
   "cell_type": "code",
   "execution_count": 25,
   "metadata": {},
   "outputs": [
    {
     "ename": "SyntaxError",
     "evalue": "invalid syntax (2923547039.py, line 2)",
     "output_type": "error",
     "traceback": [
      "\u001b[1;36m  Cell \u001b[1;32mIn[25], line 2\u001b[1;36m\u001b[0m\n\u001b[1;33m    Y = [model.NewIntVar(0, , f\"X[{i}]\")for i in range(numNode)]\u001b[0m\n\u001b[1;37m                            ^\u001b[0m\n\u001b[1;31mSyntaxError\u001b[0m\u001b[1;31m:\u001b[0m invalid syntax\n"
     ]
    }
   ],
   "source": [
    "X = [model.NewIntVar(0, numNode-1, f\"X[{i}]\")for i in range(numNode)]\n",
    "Y = [model.NewIntVar(0, , f\"X[{i}]\")for i in range(numNode)]"
   ]
  },
  {
   "cell_type": "code",
   "execution_count": null,
   "metadata": {},
   "outputs": [],
   "source": [
    "\n",
    "\"\"\"OR-Tools solution to the N-queens problem.\"\"\"\n",
    "import sys\n",
    "import time\n",
    "from ortools.sat.python import cp_model\n",
    "\n",
    "\n",
    "class NQueenSolutionPrinter(cp_model.CpSolverSolutionCallback):\n",
    "    \"\"\"Print intermediate solutions.\"\"\"\n",
    "\n",
    "    def __init__(self, queens):\n",
    "        cp_model.CpSolverSolutionCallback.__init__(self)\n",
    "        self.__queens = queens\n",
    "        self.__solution_count = 0\n",
    "        self.__start_time = time.time()\n",
    "\n",
    "    def solution_count(self):\n",
    "        return self.__solution_count\n",
    "\n",
    "    def on_solution_callback(self):\n",
    "        current_time = time.time()\n",
    "        print(\n",
    "            f\"Solution {self.__solution_count}, \"\n",
    "            f\"time = {current_time - self.__start_time} s\"\n",
    "        )\n",
    "        self.__solution_count += 1\n",
    "\n",
    "        all_queens = range(len(self.__queens))\n",
    "        for i in all_queens:\n",
    "            for j in all_queens:\n",
    "                if self.Value(self.__queens[j]) == i:\n",
    "                    # There is a queen in column j, row i.\n",
    "                    print(f\"{j}\", end=\" \")\n",
    "                else:\n",
    "                    print(\"_\", end=\" \")\n",
    "            print()\n",
    "        print()\n",
    "\n",
    "\n",
    "def main(board_size):\n",
    "    # Creates the solver.\n",
    "    model = cp_model.CpModel()\n",
    "\n",
    "    # Creates the variables.\n",
    "    # There are `board_size` number of variables, one for a queen in each column\n",
    "    # of the board. The value of each variable is the row that the queen is in.\n",
    "    queens = [model.NewIntVar(0, board_size - 1, f\"x_{i}\") for i in range(board_size)]\n",
    "\n",
    "    # Creates the constraints.\n",
    "    # All rows must be different.\n",
    "    model.AddAllDifferent(queens)\n",
    "\n",
    "    # No two queens can be on the same diagonal.\n",
    "    model.AddAllDifferent(queens[i] + i for i in range(board_size))\n",
    "    model.AddAllDifferent(queens[i] - i for i in range(board_size))\n",
    "\n",
    "    # Solve the model.\n",
    "    solver = cp_model.CpSolver()\n",
    "    solution_printer = NQueenSolutionPrinter(queens)\n",
    "    solver.parameters.enumerate_all_solutions = True\n",
    "    solver.Solve(model, solution_printer)\n",
    "\n",
    "    # Statistics.\n",
    "    print(\"\\nStatistics\")\n",
    "    print(f\"  conflicts      : {solver.NumConflicts()}\")\n",
    "    print(f\"  branches       : {solver.NumBranches()}\")\n",
    "    print(f\"  wall time      : {solver.WallTime()} s\")\n",
    "    print(f\"  solutions found: {solution_printer.solution_count()}\")\n"
   ]
  }
 ],
 "metadata": {
  "kernelspec": {
   "display_name": "lulopy",
   "language": "python",
   "name": "python3"
  },
  "language_info": {
   "codemirror_mode": {
    "name": "ipython",
    "version": 3
   },
   "file_extension": ".py",
   "mimetype": "text/x-python",
   "name": "python",
   "nbconvert_exporter": "python",
   "pygments_lexer": "ipython3",
   "version": "3.11.4"
  }
 },
 "nbformat": 4,
 "nbformat_minor": 2
}
