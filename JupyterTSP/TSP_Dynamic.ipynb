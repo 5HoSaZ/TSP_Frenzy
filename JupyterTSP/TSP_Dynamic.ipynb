{
 "cells": [
  {
   "cell_type": "code",
   "execution_count": 27,
   "metadata": {},
   "outputs": [],
   "source": [
    "import logging as log\n",
    "import numpy as np\n",
    "from ortools.linear_solver import pywraplp"
   ]
  },
  {
   "cell_type": "markdown",
   "metadata": {},
   "source": [
    "### Set up logging\n"
   ]
  },
  {
   "cell_type": "code",
   "execution_count": 28,
   "metadata": {},
   "outputs": [
    {
     "name": "stderr",
     "output_type": "stream",
     "text": [
      "INFO - Logger initialized...\n"
     ]
    }
   ],
   "source": [
    "for handler in log.root.handlers[:]:\n",
    "    log.root.removeHandler(handler)\n",
    "log.basicConfig(format=\"%(levelname)s - %(message)s\")\n",
    "\n",
    "logger = log.getLogger()\n",
    "logger.setLevel(log.DEBUG)\n",
    "log.info(\"Logger initialized...\")"
   ]
  },
  {
   "cell_type": "markdown",
   "metadata": {},
   "source": [
    "### Get input\n"
   ]
  },
  {
   "cell_type": "code",
   "execution_count": 29,
   "metadata": {},
   "outputs": [],
   "source": [
    "def getinput(file):\n",
    "    with open(file) as data:\n",
    "        NumNode = int(next(data))\n",
    "        PathCost = np.loadtxt(data)\n",
    "    return NumNode, PathCost"
   ]
  },
  {
   "cell_type": "code",
   "execution_count": 30,
   "metadata": {},
   "outputs": [],
   "source": [
    "NumNode, PathCost = getinput(\"largeTSP.txt\")"
   ]
  },
  {
   "cell_type": "markdown",
   "metadata": {},
   "source": [
    "### Set up solver\n"
   ]
  },
  {
   "cell_type": "code",
   "execution_count": 31,
   "metadata": {},
   "outputs": [],
   "source": [
    "solver_id = \"SCIP\"\n",
    "solver: pywraplp.Solver = pywraplp.Solver.CreateSolver(solver_id)\n",
    "inf = solver.infinity()"
   ]
  },
  {
   "cell_type": "markdown",
   "metadata": {},
   "source": [
    "### Generating decision variables\n"
   ]
  },
  {
   "cell_type": "code",
   "execution_count": 32,
   "metadata": {},
   "outputs": [
    {
     "name": "stderr",
     "output_type": "stream",
     "text": [
      "INFO - Creating 900 boolean x_ij variables... \n"
     ]
    }
   ],
   "source": [
    "log.info(\"Creating \" + str(NumNode * NumNode) + \" boolean x_ij variables... \")\n",
    "X = {}\n",
    "for i in range(NumNode):\n",
    "    for j in range(NumNode):\n",
    "        X[(i, j)] = solver.BoolVar(f\"x{(i, j)}\")"
   ]
  },
  {
   "cell_type": "markdown",
   "metadata": {},
   "source": [
    "### Creating constraints\n"
   ]
  },
  {
   "cell_type": "code",
   "execution_count": 33,
   "metadata": {},
   "outputs": [
    {
     "name": "stderr",
     "output_type": "stream",
     "text": [
      "INFO - Creating 29 Constraint 1... \n"
     ]
    }
   ],
   "source": [
    "# Constraint 1: leave every point exactly once\n",
    "\n",
    "log.info(\"Creating \" + str(NumNode - 1) + \" Constraint 1... \")\n",
    "for i in range(NumNode):\n",
    "    solver.Add(sum(X[(i, j)] for j in range(NumNode) if j!=i) == 1)"
   ]
  },
  {
   "cell_type": "code",
   "execution_count": 34,
   "metadata": {},
   "outputs": [
    {
     "name": "stderr",
     "output_type": "stream",
     "text": [
      "INFO - Creating 29 Constraint 2... \n"
     ]
    }
   ],
   "source": [
    "# Constraint 2: reach every point from exactly one other point\n",
    "\n",
    "log.info(\"Creating \" + str(NumNode - 1) + \" Constraint 2... \")\n",
    "for j in range(NumNode):\n",
    "    solver.Add(sum(X[(i, j)] for i in range(NumNode) if i!=j) == 1)"
   ]
  },
  {
   "cell_type": "markdown",
   "metadata": {},
   "source": [
    "### Dynamically remove subtours"
   ]
  },
  {
   "cell_type": "code",
   "execution_count": 35,
   "metadata": {},
   "outputs": [],
   "source": [
    "def SubTourDetector(X):\n",
    "    path = {start: end for start in range(NumNode) for end in range(NumNode) if X[(start, end)].solution_value() == 1} \n",
    "    Nodes = set(range(NumNode))\n",
    "    subTours = [[]]\n",
    "    start = 0\n",
    "    numSubTour = 1\n",
    "    while True:\n",
    "        Nodes.remove(start)\n",
    "        subTours[-1].append((start, path[start]))\n",
    "        if Nodes:\n",
    "            if path[start] in Nodes:\n",
    "                start = path[start]\n",
    "            else:\n",
    "                start = next(iter(Nodes))\n",
    "                subTours.append([])\n",
    "                numSubTour += 1\n",
    "        else:\n",
    "            break\n",
    "    return numSubTour, subTours\n"
   ]
  },
  {
   "cell_type": "code",
   "execution_count": 36,
   "metadata": {},
   "outputs": [],
   "source": [
    "def removeSubTours(solver, X, subTours):\n",
    "    for tour in subTours:\n",
    "        log.info(\"Removing subtour\")\n",
    "        solver.Add(sum(X[start_end] for start_end in tour) <= len(tour) - 1)"
   ]
  },
  {
   "cell_type": "markdown",
   "metadata": {},
   "source": [
    "### Define objective function\n"
   ]
  },
  {
   "cell_type": "code",
   "execution_count": 37,
   "metadata": {},
   "outputs": [],
   "source": [
    "# Create objective function\n",
    "solver.Minimize(\n",
    "    sum(X[(i, j)] * PathCost[i][j] \n",
    "    for i in range(NumNode) \n",
    "    for j in range(NumNode))\n",
    ")"
   ]
  },
  {
   "cell_type": "markdown",
   "metadata": {},
   "source": [
    "### Print the solution"
   ]
  },
  {
   "cell_type": "code",
   "execution_count": 38,
   "metadata": {},
   "outputs": [],
   "source": [
    "def printSolution(tour):\n",
    "    start = 0\n",
    "    print(\"Optimal tour:\", start + 1, end = \" \")\n",
    "    for start, end in tour:\n",
    "        print(\"->\", end + 1, end=\" \")\n",
    "    print()"
   ]
  },
  {
   "cell_type": "markdown",
   "metadata": {},
   "source": [
    "### Solve the model\n"
   ]
  },
  {
   "cell_type": "code",
   "execution_count": 39,
   "metadata": {},
   "outputs": [
    {
     "name": "stderr",
     "output_type": "stream",
     "text": [
      "INFO - Solving MIP model... \n",
      "INFO - Removing subtour\n",
      "INFO - Removing subtour\n",
      "INFO - Removing subtour\n",
      "INFO - Removing subtour\n",
      "INFO - Removing subtour\n",
      "INFO - Removing subtour\n",
      "INFO - Removing subtour\n",
      "INFO - Removing subtour\n",
      "INFO - Removing subtour\n",
      "INFO - Removing subtour\n",
      "INFO - Removing subtour\n",
      "INFO - Removing subtour\n",
      "INFO - Removing subtour\n",
      "INFO - Removing subtour\n",
      "INFO - Removing subtour\n",
      "INFO - Removing subtour\n",
      "INFO - Removing subtour\n",
      "INFO - Removing subtour\n",
      "INFO - Removing subtour\n",
      "INFO - Removing subtour\n",
      "INFO - Removing subtour\n",
      "INFO - Removing subtour\n",
      "INFO - Removing subtour\n",
      "INFO - Removing subtour\n",
      "INFO - Removing subtour\n",
      "INFO - Removing subtour\n",
      "INFO - Removing subtour\n",
      "INFO - Removing subtour\n",
      "INFO - Removing subtour\n",
      "INFO - Removing subtour\n",
      "INFO - Removing subtour\n",
      "INFO - Removing subtour\n",
      "INFO - Removing subtour\n",
      "INFO - Removing subtour\n",
      "INFO - Removing subtour\n",
      "INFO - Removing subtour\n"
     ]
    },
    {
     "name": "stdout",
     "output_type": "stream",
     "text": [
      "Optimal objective value == 43398.999999999956\n",
      "Optimal tour: 1 -> 16 -> 2 -> 11 -> 17 -> 12 -> 13 -> 10 -> 28 -> 4 -> 26 -> 20 -> 8 -> 6 -> 19 -> 5 -> 9 -> 22 -> 7 -> 24 -> 21 -> 18 -> 27 -> 29 -> 14 -> 30 -> 23 -> 25 -> 15 -> 3 -> 1 \n"
     ]
    }
   ],
   "source": [
    "log.info(\"Solving MIP model... \")\n",
    "while True:\n",
    "    status = solver.Solve()\n",
    "    if status == pywraplp.Solver.OPTIMAL:\n",
    "        numSubTour, subTours = SubTourDetector(X)   \n",
    "        if numSubTour == 1:\n",
    "            print(\"Optimal objective value ==\", solver.Objective().Value())\n",
    "            break\n",
    "        else:\n",
    "            removeSubTours(solver, X, subTours)\n",
    "    else:\n",
    "        print(\"UNBOUNDED\")\n",
    "        break\n",
    "\n",
    "printSolution(solTour := subTours[0])"
   ]
  }
 ],
 "metadata": {
  "kernelspec": {
   "display_name": "lulopy",
   "language": "python",
   "name": "python3"
  },
  "language_info": {
   "codemirror_mode": {
    "name": "ipython",
    "version": 3
   },
   "file_extension": ".py",
   "mimetype": "text/x-python",
   "name": "python",
   "nbconvert_exporter": "python",
   "pygments_lexer": "ipython3",
   "version": "3.11.4"
  }
 },
 "nbformat": 4,
 "nbformat_minor": 2
}
